{
 "cells": [
  {
   "cell_type": "code",
   "execution_count": 1,
   "id": "56defa3a-27fc-4fa3-83da-bf9708789eb5",
   "metadata": {
    "tags": []
   },
   "outputs": [],
   "source": [
    "## import pandas \n",
    "import pandas as pd "
   ]
  },
  {
   "cell_type": "code",
   "execution_count": 2,
   "id": "00d4a762-607f-4172-b533-ba747a74fa72",
   "metadata": {
    "tags": []
   },
   "outputs": [],
   "source": [
    "## load the csv file to a dataframe \n",
    "clean_df = pd.read_csv('mikk_clean_merged_phased1_hapmap.csv') "
   ]
  },
  {
   "cell_type": "code",
   "execution_count": 3,
   "id": "0e1e25fd-afb0-4171-bfa8-193415e27bdf",
   "metadata": {
    "tags": []
   },
   "outputs": [
    {
     "data": {
      "text/plain": [
       "(11359823, 2)"
      ]
     },
     "execution_count": 3,
     "metadata": {},
     "output_type": "execute_result"
    }
   ],
   "source": [
    "clean_df.shape "
   ]
  },
  {
   "cell_type": "code",
   "execution_count": 3,
   "id": "3b1c160b-525f-4679-af35-63c89ec17efb",
   "metadata": {
    "tags": []
   },
   "outputs": [
    {
     "data": {
      "text/plain": [
       "Index(['Markers', 'Haplotypes'], dtype='object')"
      ]
     },
     "execution_count": 3,
     "metadata": {},
     "output_type": "execute_result"
    }
   ],
   "source": [
    "## rename the hapmap column headers \n",
    "clean_df1 = clean_df.rename(columns = {'Unnamed: 0':'Markers', 'V1':'Haplotypes'})\n",
    "clean_df1.columns "
   ]
  },
  {
   "cell_type": "code",
   "execution_count": 4,
   "id": "eeb6e2ab-9b18-4d31-b88a-d9acac08ab14",
   "metadata": {
    "tags": []
   },
   "outputs": [
    {
     "name": "stdout",
     "output_type": "stream",
     "text": [
      "['Ol223467v1_chr1_12989', 'Ol223467v1_chr1_13217', 'Ol223467v1_chr1_13234', 'Ol223467v1_chr1_13314', 'Ol223467v1_chr1_13359', 'Ol223467v1_chr1_13361', 'Ol223467v1_chr1_13386', 'Ol223467v1_chr1_13396', 'Ol223467v1_chr1_13406', 'Ol223467v1_chr1_13425']\n"
     ]
    }
   ],
   "source": [
    "## replace custom markers with real markers \n",
    "## Adding the genotype markers created from pos+chrom \n",
    "marker_ids = []\n",
    "with open('./mikk_clean_markers_ed2.txt', 'r') as file:\n",
    "    markers = file.readlines()\n",
    "    \n",
    "for lines in markers: \n",
    "    marker_ids.append(lines[:-1]) \n",
    "print(marker_ids[0:10])"
   ]
  },
  {
   "cell_type": "code",
   "execution_count": 6,
   "id": "c4caa859-8060-4f5e-a36f-62cdf39b9f4a",
   "metadata": {
    "tags": []
   },
   "outputs": [
    {
     "name": "stdout",
     "output_type": "stream",
     "text": [
      "11359823\n"
     ]
    }
   ],
   "source": [
    "print(len(marker_ids))"
   ]
  },
  {
   "cell_type": "code",
   "execution_count": 5,
   "id": "96fc7b6b-f691-4676-821e-c22ebfb9e126",
   "metadata": {
    "tags": []
   },
   "outputs": [
    {
     "data": {
      "text/plain": [
       "(11359823, 2)"
      ]
     },
     "execution_count": 5,
     "metadata": {},
     "output_type": "execute_result"
    }
   ],
   "source": [
    "## replace the row indeces \n",
    "clean_df1.index = marker_ids\n",
    "clean_df1.shape"
   ]
  },
  {
   "cell_type": "code",
   "execution_count": 8,
   "id": "5d932284-db52-4049-9efa-276f2f2a126f",
   "metadata": {
    "tags": []
   },
   "outputs": [
    {
     "data": {
      "text/html": [
       "<div>\n",
       "<style scoped>\n",
       "    .dataframe tbody tr th:only-of-type {\n",
       "        vertical-align: middle;\n",
       "    }\n",
       "\n",
       "    .dataframe tbody tr th {\n",
       "        vertical-align: top;\n",
       "    }\n",
       "\n",
       "    .dataframe thead th {\n",
       "        text-align: right;\n",
       "    }\n",
       "</style>\n",
       "<table border=\"1\" class=\"dataframe\">\n",
       "  <thead>\n",
       "    <tr style=\"text-align: right;\">\n",
       "      <th></th>\n",
       "      <th>Markers</th>\n",
       "      <th>Haplotypes</th>\n",
       "    </tr>\n",
       "  </thead>\n",
       "  <tbody>\n",
       "    <tr>\n",
       "      <th>Ol223467v1_chr1_12989</th>\n",
       "      <td>1</td>\n",
       "      <td>1111111111111111111111111111111111111111111111...</td>\n",
       "    </tr>\n",
       "    <tr>\n",
       "      <th>Ol223467v1_chr1_13217</th>\n",
       "      <td>2</td>\n",
       "      <td>1111111111111111111111111111111111111111111111...</td>\n",
       "    </tr>\n",
       "    <tr>\n",
       "      <th>Ol223467v1_chr1_13234</th>\n",
       "      <td>3</td>\n",
       "      <td>1111111111111111111111111111111111111111111111...</td>\n",
       "    </tr>\n",
       "    <tr>\n",
       "      <th>Ol223467v1_chr1_13314</th>\n",
       "      <td>4</td>\n",
       "      <td>1111111111111111111111111111111111111111111111...</td>\n",
       "    </tr>\n",
       "    <tr>\n",
       "      <th>Ol223467v1_chr1_13359</th>\n",
       "      <td>5</td>\n",
       "      <td>1111111111111111111111111111111111111111111111...</td>\n",
       "    </tr>\n",
       "  </tbody>\n",
       "</table>\n",
       "</div>"
      ],
      "text/plain": [
       "                       Markers  \\\n",
       "Ol223467v1_chr1_12989        1   \n",
       "Ol223467v1_chr1_13217        2   \n",
       "Ol223467v1_chr1_13234        3   \n",
       "Ol223467v1_chr1_13314        4   \n",
       "Ol223467v1_chr1_13359        5   \n",
       "\n",
       "                                                              Haplotypes  \n",
       "Ol223467v1_chr1_12989  1111111111111111111111111111111111111111111111...  \n",
       "Ol223467v1_chr1_13217  1111111111111111111111111111111111111111111111...  \n",
       "Ol223467v1_chr1_13234  1111111111111111111111111111111111111111111111...  \n",
       "Ol223467v1_chr1_13314  1111111111111111111111111111111111111111111111...  \n",
       "Ol223467v1_chr1_13359  1111111111111111111111111111111111111111111111...  "
      ]
     },
     "execution_count": 8,
     "metadata": {},
     "output_type": "execute_result"
    }
   ],
   "source": [
    "clean_df1.head()"
   ]
  },
  {
   "cell_type": "code",
   "execution_count": 6,
   "id": "61243dd2-90e2-4e0e-947e-21759c6c32a4",
   "metadata": {
    "tags": []
   },
   "outputs": [],
   "source": [
    "## begin the filtering process \n",
    "## a function to inspect redundant rows \n",
    "def same_value(row): \n",
    "    return len(set(row)) == 1 \n",
    "\n",
    "# create the boolean filter\n",
    "same_val_mask = clean_df1['Haplotypes'].apply(same_value) \n",
    "\n",
    "## Select rows where all values are the same \n",
    "redundant_df = clean_df1[same_val_mask] \n",
    "\n",
    "## Select rows where values are different \n",
    "unique_df = clean_df1[~same_val_mask] \n"
   ]
  },
  {
   "cell_type": "code",
   "execution_count": 10,
   "id": "09014c35-ea1f-4cb7-852d-c536c8e99981",
   "metadata": {
    "tags": []
   },
   "outputs": [
    {
     "data": {
      "text/plain": [
       "(1959696, 2)"
      ]
     },
     "execution_count": 10,
     "metadata": {},
     "output_type": "execute_result"
    }
   ],
   "source": [
    "redundant_df.shape "
   ]
  },
  {
   "cell_type": "code",
   "execution_count": 11,
   "id": "657a3194-8972-4aac-a03f-d6573d23ac85",
   "metadata": {
    "tags": []
   },
   "outputs": [
    {
     "data": {
      "text/plain": [
       "(9400127, 2)"
      ]
     },
     "execution_count": 11,
     "metadata": {},
     "output_type": "execute_result"
    }
   ],
   "source": [
    "unique_df.shape "
   ]
  },
  {
   "cell_type": "code",
   "execution_count": 7,
   "id": "c5f65726-0987-49f1-9a8c-9abcf5b29edc",
   "metadata": {
    "tags": []
   },
   "outputs": [],
   "source": [
    "## drop duplicates in the same value df and add the unique values to the diff val df \n",
    "## dropping the duplicates \n",
    "sorted_redundant_df = redundant_df.drop_duplicates(subset='Haplotypes') \n",
    "\n",
    "## add the sorted values into the diff val df \n",
    "final_clean_df = pd.concat([unique_df, sorted_redundant_df]) "
   ]
  },
  {
   "cell_type": "code",
   "execution_count": 13,
   "id": "38a5e039-7886-4a4f-88ae-11ceeab3a407",
   "metadata": {
    "tags": []
   },
   "outputs": [
    {
     "data": {
      "text/html": [
       "<div>\n",
       "<style scoped>\n",
       "    .dataframe tbody tr th:only-of-type {\n",
       "        vertical-align: middle;\n",
       "    }\n",
       "\n",
       "    .dataframe tbody tr th {\n",
       "        vertical-align: top;\n",
       "    }\n",
       "\n",
       "    .dataframe thead th {\n",
       "        text-align: right;\n",
       "    }\n",
       "</style>\n",
       "<table border=\"1\" class=\"dataframe\">\n",
       "  <thead>\n",
       "    <tr style=\"text-align: right;\">\n",
       "      <th></th>\n",
       "      <th>Markers</th>\n",
       "      <th>Haplotypes</th>\n",
       "    </tr>\n",
       "  </thead>\n",
       "  <tbody>\n",
       "    <tr>\n",
       "      <th>Ol223467v1_chr1_12989</th>\n",
       "      <td>1</td>\n",
       "      <td>1111111111111111111111111111111111111111111111...</td>\n",
       "    </tr>\n",
       "    <tr>\n",
       "      <th>Ol223467v1_chr1_104017</th>\n",
       "      <td>1282</td>\n",
       "      <td>0000000000000000000000000000000000000000000000...</td>\n",
       "    </tr>\n",
       "    <tr>\n",
       "      <th>Ol223467v1_chr1_654296</th>\n",
       "      <td>9983</td>\n",
       "      <td>2222222222222222222222222222222222222222222222...</td>\n",
       "    </tr>\n",
       "    <tr>\n",
       "      <th>Ol223467v1_chr1_4121225</th>\n",
       "      <td>83238</td>\n",
       "      <td>3333333333333333333333333333333333333333333333...</td>\n",
       "    </tr>\n",
       "    <tr>\n",
       "      <th>Ol223467v1_chr1_23905447</th>\n",
       "      <td>405971</td>\n",
       "      <td>4444444444444444444444444444444444444444444444...</td>\n",
       "    </tr>\n",
       "  </tbody>\n",
       "</table>\n",
       "</div>"
      ],
      "text/plain": [
       "                          Markers  \\\n",
       "Ol223467v1_chr1_12989           1   \n",
       "Ol223467v1_chr1_104017       1282   \n",
       "Ol223467v1_chr1_654296       9983   \n",
       "Ol223467v1_chr1_4121225     83238   \n",
       "Ol223467v1_chr1_23905447   405971   \n",
       "\n",
       "                                                                 Haplotypes  \n",
       "Ol223467v1_chr1_12989     1111111111111111111111111111111111111111111111...  \n",
       "Ol223467v1_chr1_104017    0000000000000000000000000000000000000000000000...  \n",
       "Ol223467v1_chr1_654296    2222222222222222222222222222222222222222222222...  \n",
       "Ol223467v1_chr1_4121225   3333333333333333333333333333333333333333333333...  \n",
       "Ol223467v1_chr1_23905447  4444444444444444444444444444444444444444444444...  "
      ]
     },
     "execution_count": 13,
     "metadata": {},
     "output_type": "execute_result"
    }
   ],
   "source": [
    "sorted_redundant_df.head()"
   ]
  },
  {
   "cell_type": "code",
   "execution_count": null,
   "id": "d50af03c-3cc0-4706-9eac-b96b597f70ba",
   "metadata": {},
   "outputs": [],
   "source": [
    "## filter the redundant file from the actual file \n",
    "original_clean_df = pd.read_csv('mikk_clean_geno_marked2.csv') "
   ]
  },
  {
   "cell_type": "code",
   "execution_count": 8,
   "id": "475a4753-5602-4415-a7bf-d4b52d06c051",
   "metadata": {},
   "outputs": [
    {
     "data": {
      "text/plain": [
       "(9400132, 2)"
      ]
     },
     "execution_count": 8,
     "metadata": {},
     "output_type": "execute_result"
    }
   ],
   "source": [
    "final_clean_df.shape"
   ]
  },
  {
   "cell_type": "code",
   "execution_count": 13,
   "id": "8f649c36-039a-4534-ac6c-bf3fdb389765",
   "metadata": {
    "tags": []
   },
   "outputs": [
    {
     "data": {
      "text/html": [
       "<div>\n",
       "<style scoped>\n",
       "    .dataframe tbody tr th:only-of-type {\n",
       "        vertical-align: middle;\n",
       "    }\n",
       "\n",
       "    .dataframe tbody tr th {\n",
       "        vertical-align: top;\n",
       "    }\n",
       "\n",
       "    .dataframe thead th {\n",
       "        text-align: right;\n",
       "    }\n",
       "</style>\n",
       "<table border=\"1\" class=\"dataframe\">\n",
       "  <thead>\n",
       "    <tr style=\"text-align: right;\">\n",
       "      <th></th>\n",
       "      <th>Markers</th>\n",
       "      <th>Haplotypes</th>\n",
       "    </tr>\n",
       "  </thead>\n",
       "  <tbody>\n",
       "    <tr>\n",
       "      <th>Ol223467v1_chr1_13314</th>\n",
       "      <td>4</td>\n",
       "      <td>1111111111111111111111111111111111111111111111...</td>\n",
       "    </tr>\n",
       "    <tr>\n",
       "      <th>Ol223467v1_chr1_13406</th>\n",
       "      <td>9</td>\n",
       "      <td>1100000000000000110000000001000000000000000000...</td>\n",
       "    </tr>\n",
       "    <tr>\n",
       "      <th>Ol223467v1_chr1_13425</th>\n",
       "      <td>10</td>\n",
       "      <td>1100000000000000110000000001000000000000000000...</td>\n",
       "    </tr>\n",
       "    <tr>\n",
       "      <th>Ol223467v1_chr1_13479</th>\n",
       "      <td>12</td>\n",
       "      <td>1111111111111111111111111111111111111111110011...</td>\n",
       "    </tr>\n",
       "    <tr>\n",
       "      <th>Ol223467v1_chr1_13523</th>\n",
       "      <td>14</td>\n",
       "      <td>0000110000000001000011110000111101000000000000...</td>\n",
       "    </tr>\n",
       "  </tbody>\n",
       "</table>\n",
       "</div>"
      ],
      "text/plain": [
       "                       Markers  \\\n",
       "Ol223467v1_chr1_13314        4   \n",
       "Ol223467v1_chr1_13406        9   \n",
       "Ol223467v1_chr1_13425       10   \n",
       "Ol223467v1_chr1_13479       12   \n",
       "Ol223467v1_chr1_13523       14   \n",
       "\n",
       "                                                              Haplotypes  \n",
       "Ol223467v1_chr1_13314  1111111111111111111111111111111111111111111111...  \n",
       "Ol223467v1_chr1_13406  1100000000000000110000000001000000000000000000...  \n",
       "Ol223467v1_chr1_13425  1100000000000000110000000001000000000000000000...  \n",
       "Ol223467v1_chr1_13479  1111111111111111111111111111111111111111110011...  \n",
       "Ol223467v1_chr1_13523  0000110000000001000011110000111101000000000000...  "
      ]
     },
     "execution_count": 13,
     "metadata": {},
     "output_type": "execute_result"
    }
   ],
   "source": [
    "final_clean_df.head()"
   ]
  },
  {
   "cell_type": "code",
   "execution_count": 16,
   "id": "981cf7b1-0fc0-4926-808a-75dc520dd503",
   "metadata": {
    "tags": []
   },
   "outputs": [],
   "source": [
    "final_clean_df1 = final_clean_df.reset_index()"
   ]
  },
  {
   "cell_type": "code",
   "execution_count": 17,
   "id": "3e9022df-a3e5-4ca9-8f4a-bf1bb113ddc7",
   "metadata": {
    "tags": []
   },
   "outputs": [
    {
     "data": {
      "text/plain": [
       "Index(['index', 'Markers', 'Haplotypes'], dtype='object')"
      ]
     },
     "execution_count": 17,
     "metadata": {},
     "output_type": "execute_result"
    }
   ],
   "source": [
    "final_clean_df1.columns "
   ]
  },
  {
   "cell_type": "code",
   "execution_count": 18,
   "id": "c3629d8c-e77f-4ae3-9f23-d7bf83039b63",
   "metadata": {
    "tags": []
   },
   "outputs": [
    {
     "data": {
      "text/html": [
       "<div>\n",
       "<style scoped>\n",
       "    .dataframe tbody tr th:only-of-type {\n",
       "        vertical-align: middle;\n",
       "    }\n",
       "\n",
       "    .dataframe tbody tr th {\n",
       "        vertical-align: top;\n",
       "    }\n",
       "\n",
       "    .dataframe thead th {\n",
       "        text-align: right;\n",
       "    }\n",
       "</style>\n",
       "<table border=\"1\" class=\"dataframe\">\n",
       "  <thead>\n",
       "    <tr style=\"text-align: right;\">\n",
       "      <th></th>\n",
       "      <th>index</th>\n",
       "      <th>Markers</th>\n",
       "      <th>Haplotypes</th>\n",
       "    </tr>\n",
       "  </thead>\n",
       "  <tbody>\n",
       "    <tr>\n",
       "      <th>0</th>\n",
       "      <td>Ol223467v1_chr1_13314</td>\n",
       "      <td>4</td>\n",
       "      <td>1111111111111111111111111111111111111111111111...</td>\n",
       "    </tr>\n",
       "    <tr>\n",
       "      <th>1</th>\n",
       "      <td>Ol223467v1_chr1_13406</td>\n",
       "      <td>9</td>\n",
       "      <td>1100000000000000110000000001000000000000000000...</td>\n",
       "    </tr>\n",
       "    <tr>\n",
       "      <th>2</th>\n",
       "      <td>Ol223467v1_chr1_13425</td>\n",
       "      <td>10</td>\n",
       "      <td>1100000000000000110000000001000000000000000000...</td>\n",
       "    </tr>\n",
       "    <tr>\n",
       "      <th>3</th>\n",
       "      <td>Ol223467v1_chr1_13479</td>\n",
       "      <td>12</td>\n",
       "      <td>1111111111111111111111111111111111111111110011...</td>\n",
       "    </tr>\n",
       "    <tr>\n",
       "      <th>4</th>\n",
       "      <td>Ol223467v1_chr1_13523</td>\n",
       "      <td>14</td>\n",
       "      <td>0000110000000001000011110000111101000000000000...</td>\n",
       "    </tr>\n",
       "  </tbody>\n",
       "</table>\n",
       "</div>"
      ],
      "text/plain": [
       "                   index  Markers  \\\n",
       "0  Ol223467v1_chr1_13314        4   \n",
       "1  Ol223467v1_chr1_13406        9   \n",
       "2  Ol223467v1_chr1_13425       10   \n",
       "3  Ol223467v1_chr1_13479       12   \n",
       "4  Ol223467v1_chr1_13523       14   \n",
       "\n",
       "                                          Haplotypes  \n",
       "0  1111111111111111111111111111111111111111111111...  \n",
       "1  1100000000000000110000000001000000000000000000...  \n",
       "2  1100000000000000110000000001000000000000000000...  \n",
       "3  1111111111111111111111111111111111111111110011...  \n",
       "4  0000110000000001000011110000111101000000000000...  "
      ]
     },
     "execution_count": 18,
     "metadata": {},
     "output_type": "execute_result"
    }
   ],
   "source": [
    "final_clean_df1.head()"
   ]
  },
  {
   "cell_type": "code",
   "execution_count": 19,
   "id": "6a388527-a5d3-452c-8701-874148a0c285",
   "metadata": {
    "tags": []
   },
   "outputs": [
    {
     "data": {
      "text/html": [
       "<div>\n",
       "<style scoped>\n",
       "    .dataframe tbody tr th:only-of-type {\n",
       "        vertical-align: middle;\n",
       "    }\n",
       "\n",
       "    .dataframe tbody tr th {\n",
       "        vertical-align: top;\n",
       "    }\n",
       "\n",
       "    .dataframe thead th {\n",
       "        text-align: right;\n",
       "    }\n",
       "</style>\n",
       "<table border=\"1\" class=\"dataframe\">\n",
       "  <thead>\n",
       "    <tr style=\"text-align: right;\">\n",
       "      <th></th>\n",
       "      <th>Marker_ids</th>\n",
       "      <th>Markers</th>\n",
       "      <th>Haplotypes</th>\n",
       "    </tr>\n",
       "  </thead>\n",
       "  <tbody>\n",
       "    <tr>\n",
       "      <th>0</th>\n",
       "      <td>Ol223467v1_chr1_13314</td>\n",
       "      <td>4</td>\n",
       "      <td>1111111111111111111111111111111111111111111111...</td>\n",
       "    </tr>\n",
       "    <tr>\n",
       "      <th>1</th>\n",
       "      <td>Ol223467v1_chr1_13406</td>\n",
       "      <td>9</td>\n",
       "      <td>1100000000000000110000000001000000000000000000...</td>\n",
       "    </tr>\n",
       "    <tr>\n",
       "      <th>2</th>\n",
       "      <td>Ol223467v1_chr1_13425</td>\n",
       "      <td>10</td>\n",
       "      <td>1100000000000000110000000001000000000000000000...</td>\n",
       "    </tr>\n",
       "    <tr>\n",
       "      <th>3</th>\n",
       "      <td>Ol223467v1_chr1_13479</td>\n",
       "      <td>12</td>\n",
       "      <td>1111111111111111111111111111111111111111110011...</td>\n",
       "    </tr>\n",
       "    <tr>\n",
       "      <th>4</th>\n",
       "      <td>Ol223467v1_chr1_13523</td>\n",
       "      <td>14</td>\n",
       "      <td>0000110000000001000011110000111101000000000000...</td>\n",
       "    </tr>\n",
       "  </tbody>\n",
       "</table>\n",
       "</div>"
      ],
      "text/plain": [
       "              Marker_ids  Markers  \\\n",
       "0  Ol223467v1_chr1_13314        4   \n",
       "1  Ol223467v1_chr1_13406        9   \n",
       "2  Ol223467v1_chr1_13425       10   \n",
       "3  Ol223467v1_chr1_13479       12   \n",
       "4  Ol223467v1_chr1_13523       14   \n",
       "\n",
       "                                          Haplotypes  \n",
       "0  1111111111111111111111111111111111111111111111...  \n",
       "1  1100000000000000110000000001000000000000000000...  \n",
       "2  1100000000000000110000000001000000000000000000...  \n",
       "3  1111111111111111111111111111111111111111110011...  \n",
       "4  0000110000000001000011110000111101000000000000...  "
      ]
     },
     "execution_count": 19,
     "metadata": {},
     "output_type": "execute_result"
    }
   ],
   "source": [
    "final_clean_df1 = final_clean_df1.rename(columns={'index':'Marker_ids'})\n",
    "final_clean_df1.head()"
   ]
  },
  {
   "cell_type": "code",
   "execution_count": 20,
   "id": "db991200-365e-4413-9ba5-498dcce2da22",
   "metadata": {
    "tags": []
   },
   "outputs": [],
   "source": [
    "final_clean_df1.to_csv('mikk_clean_hapvarMaps.csv', index = None, header = True)"
   ]
  },
  {
   "cell_type": "code",
   "execution_count": null,
   "id": "b387cb74-312d-4d4d-bf80-3677983224c4",
   "metadata": {},
   "outputs": [],
   "source": [
    "## Just use the chunk method \n",
    "# Define the file path and column names (if applicable)\n",
    "file_path = './mikk_clean_geno_marked2.csv' \n",
    "chunk_size = 50000 # Adjust this according to your system's memory capacity\n",
    "\n",
    "# Initialize an empty list to store processed chunks\n",
    "processed_chunks = []\n",
    "\n",
    "# Read the file in chunks\n",
    "for chunk in pd.read_csv(file_path, chunksize=chunk_size):\n",
    "    \n",
    "    #fill empty spaces with NA\n",
    "    chunk.fillna('NA', inplace=True)\n",
    "    \n",
    "    #filter non informative genotypes \n",
    "    chunk[chunk['Unnamed: 0'].isin(final_clean_df.index)]\n",
    "                \n",
    "    #rename the marker header \n",
    "    chunk.reset_index()\n",
    "    chunk.rename(columns={'Unnamed: 0':'Marker_Ids'})\n",
    "    \n",
    "    #append the processed chunks into a list\n",
    "    processed_chunks.append(chunk)\n",
    "    \n",
    "#save the list as a dataframe \n",
    "final_processed_df = pd.concat(processed_chunks)\n",
    "\n",
    "print(final_processed_df.shape)\n",
    "print(final_processed_df.head())\n",
    "\n",
    "# #save it into a csv file \n",
    "# final_processed_df.to_csv('mikk_clean_geno_hapVariants.csv', index = None, Header = True)\n"
   ]
  },
  {
   "cell_type": "code",
   "execution_count": 11,
   "id": "8c4d0eab-1480-4c4c-a150-007035676296",
   "metadata": {
    "tags": []
   },
   "outputs": [
    {
     "name": "stdout",
     "output_type": "stream",
     "text": [
      "              Marker_Ids MIKK4_1 MIKK4_2 MIKK5_1 MIKK7_2 MIKK8_2 MIKK10_1  \\\n",
      "0  Ol223467v1_chr1_12989     1.0     1.0     1.0      NA      NA      1.0   \n",
      "1  Ol223467v1_chr1_13217     1.0     1.0     1.0     1.0      NA       NA   \n",
      "2  Ol223467v1_chr1_13234     1.0     1.0     1.0     1.0      NA       NA   \n",
      "3  Ol223467v1_chr1_13314      NA     1.0      NA      NA      NA      1.0   \n",
      "4  Ol223467v1_chr1_13359     1.0     1.0     1.0     1.0      NA      1.0   \n",
      "\n",
      "  MIKK11_1 MIKK11_2 MIKK13_2  ... MIKK132_4_1 MIKK132_5 MIKK134_1 MIKK135_1  \\\n",
      "0      1.0       NA      1.0  ...          NA        NA       1.0       1.0   \n",
      "1       NA      1.0      1.0  ...         1.0       1.0        NA        NA   \n",
      "2       NA      1.0      1.0  ...         1.0       1.0        NA        NA   \n",
      "3      1.0      1.0      1.0  ...         1.0       0.0        NA        NA   \n",
      "4      1.0      1.0      1.0  ...         1.0       1.0       1.0       1.0   \n",
      "\n",
      "  MIKK135_2 MIKK137_4 MIKK138_1 MIKK139_4 MIKK140_1 MIKK140_3  \n",
      "0       1.0       1.0        NA       1.0       1.0       1.0  \n",
      "1       1.0        NA       1.0        NA       1.0       1.0  \n",
      "2       1.0        NA       1.0        NA       1.0       1.0  \n",
      "3        NA        NA        NA       1.0       1.0        NA  \n",
      "4       1.0       1.0        NA       1.0       1.0       1.0  \n",
      "\n",
      "[5 rows x 80 columns]\n"
     ]
    }
   ],
   "source": [
    "## Just use the chunk method \n",
    "# Define the file path and column names (if applicable)\n",
    "file_path = './mikk_clean_geno_marked2.csv' \n",
    "chunk_size = 50000 # Adjust this according to your system's memory capacity\n",
    "\n",
    "# Initialize an empty list to store processed chunks\n",
    "processed_chunks = []\n",
    "\n",
    "# Read the file in chunks\n",
    "for chunk in pd.read_csv(file_path, chunksize=chunk_size):\n",
    "    \n",
    "    #fill empty spaces with NA\n",
    "    chunk.fillna('NA', inplace=True)\n",
    "    \n",
    "    #rename the marker header \n",
    "    chunk.reset_index()\n",
    "    chunk=chunk.rename(columns={'Unnamed: 0':'Marker_Ids'})\n",
    "    \n",
    "    print(chunk.head())\n",
    "    break"
   ]
  },
  {
   "cell_type": "code",
   "execution_count": null,
   "id": "f90db298-8f57-4b0e-a28c-c8173d09b8f6",
   "metadata": {},
   "outputs": [],
   "source": [
    "## Just use the chunk method \n",
    "# Define the file path and column names (if applicable)\n",
    "file_path = './mikk_clean_geno_marked2.csv' \n",
    "chunk_size = 50000 # Adjust this according to your system's memory capacity\n",
    "\n",
    "# Initialize an empty list to store processed chunks\n",
    "processed_chunks = []\n",
    "\n",
    "# Read the file in chunks\n",
    "for chunk in pd.read_csv(file_path, chunksize=chunk_size):\n",
    "    \n",
    "    #fill empty spaces with NA\n",
    "    chunk.fillna('NA', inplace=True)\n",
    "    \n",
    "    #rename the marker header \n",
    "    chunk.reset_index()\n",
    "    chunk=chunk.rename(columns={'Unnamed: 0':'Marker_Ids'})\n",
    "    \n",
    "    #filter non informative genotypes \n",
    "    chunk=chunk[chunk['Marker_Ids'].isin(final_clean_df.index)]\n",
    "    \n",
    "     #append the processed chunks into a list\n",
    "    processed_chunks.append(chunk)\n",
    "    \n",
    "#save the list as a dataframe \n",
    "final_processed_df = pd.concat(processed_chunks)\n",
    "\n",
    "print(final_processed_df.shape)\n",
    "print(final_processed_df.head())\n",
    "\n",
    "    \n",
    "    # print(chunk.head())\n",
    "    # break"
   ]
  },
  {
   "cell_type": "code",
   "execution_count": null,
   "id": "863f5c7a-db60-432b-832e-1f889835d35a",
   "metadata": {},
   "outputs": [],
   "source": []
  }
 ],
 "metadata": {
  "kernelspec": {
   "display_name": "Python 3 (ipykernel)",
   "language": "python",
   "name": "python3"
  },
  "language_info": {
   "codemirror_mode": {
    "name": "ipython",
    "version": 3
   },
   "file_extension": ".py",
   "mimetype": "text/x-python",
   "name": "python",
   "nbconvert_exporter": "python",
   "pygments_lexer": "ipython3",
   "version": "3.11.3"
  }
 },
 "nbformat": 4,
 "nbformat_minor": 5
}
