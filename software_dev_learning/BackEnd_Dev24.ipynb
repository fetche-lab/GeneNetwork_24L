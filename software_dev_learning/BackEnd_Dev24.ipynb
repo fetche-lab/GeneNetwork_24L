{
 "cells": [
  {
   "cell_type": "markdown",
   "id": "e695cd66-25b4-404b-a45f-d9d1b7197eaf",
   "metadata": {},
   "source": [
    "## **BACKEND DEVELOPMENT WITH PYTHON**"
   ]
  },
  {
   "cell_type": "markdown",
   "id": "472d8b05-d0d1-4fa5-8f33-dfedc6d90415",
   "metadata": {},
   "source": [
    "### **MASTERING THE FUNDAMENTALS OF THE LANGUAGE FIRST {Beginner to intermediate to Advanced}** \n",
    "#### The approach is by doing mini projects to test the level of my understanding "
   ]
  },
  {
   "cell_type": "markdown",
   "id": "6f1cd0cb-8e61-4a32-9804-145a889b778e",
   "metadata": {},
   "source": [
    "### **PROJECT 01** (The Tic Tac Toe Game) "
   ]
  },
  {
   "cell_type": "markdown",
   "id": "433f1360-b5dd-4ec4-897a-165086b98683",
   "metadata": {},
   "source": [
    "### **Step01:** Create a function that can print the board. The board should be a list, and get a 3x3 presentation "
   ]
  },
  {
   "cell_type": "code",
   "execution_count": 1,
   "id": "95e4ebd3-f9d1-4a50-a5af-104a3116e055",
   "metadata": {
    "tags": []
   },
   "outputs": [],
   "source": [
    "## board_Display function \n",
    "#board = [\"#\", \"1\", \"2\", \"3\", \"4\", \"5\", \"6\", \"7\", \"8\", \"9\"]\n",
    "\n",
    "def Display_board(board):\n",
    "    for i in range(1, 10, 3):\n",
    "        print(\"\\t\" + \"|\" + \"\\t\" + \"  |\" + \"\\t\")\n",
    "        print(\"   \" + board[i] + \"    |    \" + board[i+1] + \"\\t\" + \"  |    \" + board[i+2] + \"\\t\")\n",
    "        print(\"\\t\" + \"|\" + \"\\t\" + \"  |\" + \"\\t\")\n",
    "        if i < 7:\n",
    "            print(\"-\"*27)"
   ]
  },
  {
   "cell_type": "code",
   "execution_count": 2,
   "id": "0c212928-a23c-4750-9016-688c85356969",
   "metadata": {
    "tags": []
   },
   "outputs": [
    {
     "name": "stdout",
     "output_type": "stream",
     "text": [
      "\t|\t  |\t\n",
      "   X    |    O\t  |    X\t\n",
      "\t|\t  |\t\n",
      "---------------------------\n",
      "\t|\t  |\t\n",
      "   O    |    X\t  |    O\t\n",
      "\t|\t  |\t\n",
      "---------------------------\n",
      "\t|\t  |\t\n",
      "   X    |    O\t  |    X\t\n",
      "\t|\t  |\t\n"
     ]
    }
   ],
   "source": [
    "## Let us test our board and see what we have \n",
    "test_board = ['#','X','O','X','O','X','O','X','O','X']\n",
    "Display_board(test_board)"
   ]
  },
  {
   "cell_type": "markdown",
   "id": "11f86177-0e80-44e6-8e04-54526773db5c",
   "metadata": {},
   "source": [
    "### **Step02:** Write a function to enable players to keep their input, and get assigned as 'X' or 'O'. Use while loops. "
   ]
  },
  {
   "cell_type": "code",
   "execution_count": 3,
   "id": "24829deb-8c47-4822-a89e-dc02b70b21e2",
   "metadata": {
    "tags": []
   },
   "outputs": [],
   "source": [
    "## player input function\n",
    "def player_input():\n",
    "    marker = ''\n",
    "    \n",
    "    while not (marker == 'X' or marker == 'O'):\n",
    "        marker = input(\"Player1: What input would you prefer (X or O)?\").upper()\n",
    "        \n",
    "    if marker == 'X':\n",
    "        return (\"X\", \"O\")\n",
    "    else:\n",
    "        return (\"O\", \"X\") \n"
   ]
  },
  {
   "cell_type": "code",
   "execution_count": 4,
   "id": "6ae31723-4cd2-4a77-9ac2-6c329efc815d",
   "metadata": {
    "tags": []
   },
   "outputs": [
    {
     "name": "stdin",
     "output_type": "stream",
     "text": [
      "Player1: What input would you prefer (X or O)? x\n"
     ]
    },
    {
     "data": {
      "text/plain": [
       "('X', 'O')"
      ]
     },
     "execution_count": 4,
     "metadata": {},
     "output_type": "execute_result"
    }
   ],
   "source": [
    "## test the player input function \n",
    "player_input()"
   ]
  },
  {
   "cell_type": "markdown",
   "id": "ddaebb26-0c71-4326-8ebe-c6e3e00ffad7",
   "metadata": {},
   "source": [
    "### **Step03:** Write a function that takes in a board list, marker tuple, and desired position in the board, then assigns to the board "
   ]
  },
  {
   "cell_type": "code",
   "execution_count": 5,
   "id": "39c883fd-9ab4-4696-8692-261be9b1b681",
   "metadata": {
    "tags": []
   },
   "outputs": [],
   "source": [
    "## place_marker function \n",
    "def place_marker(board, marker, position):\n",
    "    board[position] = marker "
   ]
  },
  {
   "cell_type": "code",
   "execution_count": 6,
   "id": "ed934e98-64a3-4674-ab08-bf49de36a15b",
   "metadata": {
    "tags": []
   },
   "outputs": [
    {
     "name": "stdout",
     "output_type": "stream",
     "text": [
      "\t|\t  |\t\n",
      "   X    |    O\t  |    X\t\n",
      "\t|\t  |\t\n",
      "---------------------------\n",
      "\t|\t  |\t\n",
      "   O    |    X\t  |    O\t\n",
      "\t|\t  |\t\n",
      "---------------------------\n",
      "\t|\t  |\t\n",
      "   X    |    $\t  |    X\t\n",
      "\t|\t  |\t\n"
     ]
    }
   ],
   "source": [
    "## Test the place_marker function \n",
    "place_marker(test_board, \"$\", 8)\n",
    "Display_board(test_board) "
   ]
  },
  {
   "cell_type": "markdown",
   "id": "9b22b2cb-876e-486c-8d77-de95d9bb4549",
   "metadata": {},
   "source": [
    "### **Step04:** Write a function that takes in a board and checks if the place has won "
   ]
  },
  {
   "cell_type": "code",
   "execution_count": 7,
   "id": "199571a4-78b6-401c-b6fd-03e9ee40f03a",
   "metadata": {
    "tags": []
   },
   "outputs": [],
   "source": [
    "## win_Check function \n",
    "def win_Check(board, mark):\n",
    "    return ((board[1] == mark and board[2] == mark and board[3] == mark) or \n",
    "            (board[4] == mark and board[5] == mark and board[6] == mark) or \n",
    "            (board[7] == mark and board[8] == mark and board[9] == mark) or \n",
    "            (board[1] == mark and board[4] == mark and board[7] == mark) or  \n",
    "            (board[2] == mark and board[5] == mark and board[8] == mark) or \n",
    "            (board[3] == mark and board[6] == mark and board[9] == mark) or \n",
    "            (board[1] == mark and board[5] == mark and board[9] == mark) or \n",
    "            (board[3] == mark and board[5] == mark and board[7] == mark)) "
   ]
  },
  {
   "cell_type": "code",
   "execution_count": 8,
   "id": "084380cb-ef52-4aab-b460-67288f38e798",
   "metadata": {
    "tags": []
   },
   "outputs": [
    {
     "data": {
      "text/plain": [
       "True"
      ]
     },
     "execution_count": 8,
     "metadata": {},
     "output_type": "execute_result"
    }
   ],
   "source": [
    "## test the win_Check function \n",
    "win_Check(test_board, 'X') "
   ]
  },
  {
   "cell_type": "markdown",
   "id": "53dcc00a-acb6-4d02-a781-e928778a36cd",
   "metadata": {},
   "source": [
    "### **Step05:** Write a function that uses random module to decide which player goes first "
   ]
  },
  {
   "cell_type": "code",
   "execution_count": 9,
   "id": "318065d0-f4a3-45fe-8ef8-0e8c0a636e0e",
   "metadata": {
    "tags": []
   },
   "outputs": [],
   "source": [
    "## choose player function \n",
    "\n",
    "import random \n",
    "def choose_player():\n",
    "    if random.randint(0, 1) == 0:\n",
    "        return 'Player 02'\n",
    "    else:\n",
    "        return 'Player 01' \n"
   ]
  },
  {
   "cell_type": "markdown",
   "id": "2ceff069-f3a4-4ca8-8f9f-b3e75fd9c3a8",
   "metadata": {},
   "source": [
    "### **Step06:** Write a function to check for an empty available space on the board "
   ]
  },
  {
   "cell_type": "code",
   "execution_count": 11,
   "id": "831f3ee6-9fbe-4aee-ada0-f202970129d6",
   "metadata": {
    "tags": []
   },
   "outputs": [],
   "source": [
    "## space_Check function \n",
    "def space_Check(board, position):\n",
    "    board[position] = ' '"
   ]
  },
  {
   "cell_type": "markdown",
   "id": "72021a75-d9ea-4df1-82bc-b015ad930ce5",
   "metadata": {},
   "source": [
    "### **Step07:** Write a function that checks if the board is full and returns a boolean. True for full, False otherwise "
   ]
  },
  {
   "cell_type": "code",
   "execution_count": 10,
   "id": "737c585a-114b-4d49-8d20-86941ea27ace",
   "metadata": {
    "tags": []
   },
   "outputs": [],
   "source": [
    "## full_board_Check function \n",
    "def full_board_Check(board):\n",
    "    for i in range(1,10):\n",
    "        if i in space_Check(board, i):\n",
    "            return False \n",
    "    return True "
   ]
  },
  {
   "cell_type": "markdown",
   "id": "c0ea6c70-9f5a-4435-ae34-240b80eba4f1",
   "metadata": {},
   "source": [
    "### **Step08:** Write a function that allows a player to choose a position, then checks if there is one available and returns for later use using the space check function"
   ]
  },
  {
   "cell_type": "code",
   "execution_count": 12,
   "id": "829e7e62-624a-42fa-bb2e-a3f7df2f7637",
   "metadata": {
    "tags": []
   },
   "outputs": [],
   "source": [
    "## player_choice function \n",
    "def player_choice(board):\n",
    "    position = 0 \n",
    "    \n",
    "    while position not in [1,2,3,4,5,6,7,8,9] or not space_Check(board, position):\n",
    "        position = int(input('Choose your next position: (1-9)')) \n",
    "        \n",
    "    return position "
   ]
  },
  {
   "cell_type": "markdown",
   "id": "93a5e1d8-2e22-4b7b-b645-bacabb4634b2",
   "metadata": {},
   "source": [
    "### **Step09:** Write a function to ask the player if they want to play again, and returns a True boolean "
   ]
  },
  {
   "cell_type": "code",
   "execution_count": 13,
   "id": "112d0b56-c79f-4661-93e3-3817ee612732",
   "metadata": {
    "tags": []
   },
   "outputs": [],
   "source": [
    "## the replay function \n",
    "def replay():\n",
    "    return input(\"Do you want to play again? Enter Yes or No: \").lower().startswith('y')"
   ]
  },
  {
   "cell_type": "code",
   "execution_count": null,
   "id": "6f6d91e3-8958-4c62-857f-40ab13c4b179",
   "metadata": {},
   "outputs": [],
   "source": [
    "\"\"\" To be continued \"\"\" "
   ]
  },
  {
   "cell_type": "markdown",
   "id": "ac361e9a-630c-41f5-9fb6-fbc1d1433cec",
   "metadata": {},
   "source": [
    "### **Step10:** Use while loops and the functions you've made to run the game! "
   ]
  },
  {
   "cell_type": "code",
   "execution_count": null,
   "id": "3e146fd8-8f00-476e-a958-f833155a280f",
   "metadata": {},
   "outputs": [],
   "source": []
  },
  {
   "cell_type": "code",
   "execution_count": null,
   "id": "d560f6e0-3389-4e44-9624-b164ac5a4955",
   "metadata": {
    "tags": []
   },
   "outputs": [
    {
     "name": "stdout",
     "output_type": "stream",
     "text": [
      "Welcome to Tic Tac Toe!\n"
     ]
    },
    {
     "name": "stdin",
     "output_type": "stream",
     "text": [
      "Player1: What input would you prefer (X or O)? x\n"
     ]
    },
    {
     "name": "stdout",
     "output_type": "stream",
     "text": [
      "Player 02 will go first.\n"
     ]
    },
    {
     "name": "stdin",
     "output_type": "stream",
     "text": [
      "Are you ready to play? Enter Yes or No. yes\n"
     ]
    },
    {
     "name": "stdout",
     "output_type": "stream",
     "text": [
      "\t|\t  |\t\n",
      "        |     \t  |     \t\n",
      "\t|\t  |\t\n",
      "---------------------------\n",
      "\t|\t  |\t\n",
      "        |     \t  |     \t\n",
      "\t|\t  |\t\n",
      "---------------------------\n",
      "\t|\t  |\t\n",
      "        |     \t  |     \t\n",
      "\t|\t  |\t\n"
     ]
    },
    {
     "name": "stdin",
     "output_type": "stream",
     "text": [
      "Choose your next position: (1-9) 1\n",
      "Choose your next position: (1-9) 2\n",
      "Choose your next position: (1-9) 3\n"
     ]
    }
   ],
   "source": [
    "print('Welcome to Tic Tac Toe!') \n",
    "\n",
    "while True:\n",
    "    #Reset the Board \n",
    "    theBoard = [' '] * 10 \n",
    "    player1_marker, player2_marker = player_input()\n",
    "    turn = choose_player()\n",
    "    print(turn + ' will go first.')\n",
    "    \n",
    "    play_game = input('Are you ready to play? Enter Yes or No.') \n",
    "    \n",
    "    if play_game.lower()[0] == 'y': \n",
    "        game_on = True\n",
    "    else:\n",
    "        game_on = False \n",
    "    \n",
    "    while game_on:\n",
    "        if turn == 'Player 01':\n",
    "            #Player1's turn \n",
    "            \n",
    "            Display_board(theBoard) \n",
    "            position = player_choice(theBoard) \n",
    "            place_marker(theBoard, player1_marker, position) \n",
    "            \n",
    "            if win_check(theBoard, player1_marker):\n",
    "                Display_board(theBoard)\n",
    "                print('Congratulations! You have won the game!') \n",
    "                game_on = False \n",
    "            else:\n",
    "                if full_board_check(theBoard):\n",
    "                    Display_board(theBoard) \n",
    "                    print('The game is a draw!') \n",
    "                    break \n",
    "                else:\n",
    "                    turn = 'Player 02'\n",
    "        else:\n",
    "        #Player2's turn \n",
    "             \n",
    "            Display_board(theBoard) \n",
    "            position = player_choice(theBoard) \n",
    "            place_marker(theBoard, player2_marker, position) \n",
    "            \n",
    "            if win_check(theBoard, player2_marker):\n",
    "                Display_board(theBoard)\n",
    "                print('Player 2 has won!') \n",
    "                game_on = False \n",
    "            else:\n",
    "                if full_board_check(theBoard):\n",
    "                    Display_board(theBoard) \n",
    "                    print('The game is a draw!') \n",
    "                    break \n",
    "                else:\n",
    "                    turn = 'Player 01'\n",
    "    if not replay():\n",
    "        break "
   ]
  },
  {
   "cell_type": "code",
   "execution_count": null,
   "id": "52bf2a47-b9e5-442d-8d20-8a62a5dc51bc",
   "metadata": {},
   "outputs": [],
   "source": []
  }
 ],
 "metadata": {
  "kernelspec": {
   "display_name": "Python 3 (ipykernel)",
   "language": "python",
   "name": "python3"
  },
  "language_info": {
   "codemirror_mode": {
    "name": "ipython",
    "version": 3
   },
   "file_extension": ".py",
   "mimetype": "text/x-python",
   "name": "python",
   "nbconvert_exporter": "python",
   "pygments_lexer": "ipython3",
   "version": "3.11.3"
  }
 },
 "nbformat": 4,
 "nbformat_minor": 5
}
